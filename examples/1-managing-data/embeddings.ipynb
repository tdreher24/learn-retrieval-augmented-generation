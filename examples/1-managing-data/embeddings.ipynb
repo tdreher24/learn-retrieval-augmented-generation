{
 "cells": [
  {
   "cell_type": "code",
   "execution_count": 1,
   "id": "d566bb99-6808-4976-8476-ed05b7941b80",
   "metadata": {},
   "outputs": [
    {
     "data": {
      "text/html": [
       "<div>\n",
       "<style scoped>\n",
       "    .dataframe tbody tr th:only-of-type {\n",
       "        vertical-align: middle;\n",
       "    }\n",
       "\n",
       "    .dataframe tbody tr th {\n",
       "        vertical-align: top;\n",
       "    }\n",
       "\n",
       "    .dataframe thead th {\n",
       "        text-align: right;\n",
       "    }\n",
       "</style>\n",
       "<table border=\"1\" class=\"dataframe\">\n",
       "  <thead>\n",
       "    <tr style=\"text-align: right;\">\n",
       "      <th></th>\n",
       "      <th>name</th>\n",
       "      <th>region</th>\n",
       "      <th>variety</th>\n",
       "      <th>rating</th>\n",
       "      <th>notes</th>\n",
       "    </tr>\n",
       "  </thead>\n",
       "  <tbody>\n",
       "    <tr>\n",
       "      <th>0</th>\n",
       "      <td>3 Rings Reserve Shiraz 2004</td>\n",
       "      <td>Barossa Valley, Barossa, South Australia, Aust...</td>\n",
       "      <td>Red Wine</td>\n",
       "      <td>96.0</td>\n",
       "      <td>Vintage Comments : Classic Barossa vintage con...</td>\n",
       "    </tr>\n",
       "    <tr>\n",
       "      <th>1</th>\n",
       "      <td>Abreu Vineyards Cappella 2007</td>\n",
       "      <td>Napa Valley, California</td>\n",
       "      <td>Red Wine</td>\n",
       "      <td>96.0</td>\n",
       "      <td>Cappella is a proprietary blend of two clones ...</td>\n",
       "    </tr>\n",
       "    <tr>\n",
       "      <th>2</th>\n",
       "      <td>Abreu Vineyards Cappella 2010</td>\n",
       "      <td>Napa Valley, California</td>\n",
       "      <td>Red Wine</td>\n",
       "      <td>98.0</td>\n",
       "      <td>Cappella is one of the oldest vineyard sites i...</td>\n",
       "    </tr>\n",
       "    <tr>\n",
       "      <th>3</th>\n",
       "      <td>Abreu Vineyards Howell Mountain 2008</td>\n",
       "      <td>Howell Mountain, Napa Valley, California</td>\n",
       "      <td>Red Wine</td>\n",
       "      <td>96.0</td>\n",
       "      <td>When David purchased this Howell Mountain prop...</td>\n",
       "    </tr>\n",
       "    <tr>\n",
       "      <th>4</th>\n",
       "      <td>Abreu Vineyards Howell Mountain 2009</td>\n",
       "      <td>Howell Mountain, Napa Valley, California</td>\n",
       "      <td>Red Wine</td>\n",
       "      <td>98.0</td>\n",
       "      <td>As a set of wines, it is hard to surpass the f...</td>\n",
       "    </tr>\n",
       "    <tr>\n",
       "      <th>...</th>\n",
       "      <td>...</td>\n",
       "      <td>...</td>\n",
       "      <td>...</td>\n",
       "      <td>...</td>\n",
       "      <td>...</td>\n",
       "    </tr>\n",
       "    <tr>\n",
       "      <th>1360</th>\n",
       "      <td>Lewis Cellars Alec's Blend Red 2002</td>\n",
       "      <td>Napa Valley, California</td>\n",
       "      <td>Red Wine</td>\n",
       "      <td>96.0</td>\n",
       "      <td>Number 12 on</td>\n",
       "    </tr>\n",
       "    <tr>\n",
       "      <th>1361</th>\n",
       "      <td>Lewis Cellars Cabernet Sauvignon 2002</td>\n",
       "      <td>Napa Valley, California</td>\n",
       "      <td>Red Wine</td>\n",
       "      <td>96.0</td>\n",
       "      <td>Showcasing the unique personalities of small h...</td>\n",
       "    </tr>\n",
       "    <tr>\n",
       "      <th>1362</th>\n",
       "      <td>Lewis Cellars Cuvee L Cabernet Sauvignon 2015</td>\n",
       "      <td>Napa Valley, California</td>\n",
       "      <td>Red Wine</td>\n",
       "      <td>96.0</td>\n",
       "      <td>Straight from James Fenimore Cooper’s novel, L...</td>\n",
       "    </tr>\n",
       "    <tr>\n",
       "      <th>1363</th>\n",
       "      <td>Lewis Cellars Reserve Cabernet Sauvignon 2010</td>\n",
       "      <td>Napa Valley, California</td>\n",
       "      <td>Red Wine</td>\n",
       "      <td>96.0</td>\n",
       "      <td></td>\n",
       "    </tr>\n",
       "    <tr>\n",
       "      <th>1364</th>\n",
       "      <td>Lewis Cellars Reserve Cabernet Sauvignon (scuf...</td>\n",
       "      <td>Napa Valley, California</td>\n",
       "      <td>Red Wine</td>\n",
       "      <td>96.0</td>\n",
       "      <td>The headline reads: \"2012 Reserve Cabernet - R...</td>\n",
       "    </tr>\n",
       "  </tbody>\n",
       "</table>\n",
       "<p>1347 rows × 5 columns</p>\n",
       "</div>"
      ],
      "text/plain": [
       "                                                   name  \\\n",
       "0                           3 Rings Reserve Shiraz 2004   \n",
       "1                         Abreu Vineyards Cappella 2007   \n",
       "2                         Abreu Vineyards Cappella 2010   \n",
       "3                  Abreu Vineyards Howell Mountain 2008   \n",
       "4                  Abreu Vineyards Howell Mountain 2009   \n",
       "...                                                 ...   \n",
       "1360                Lewis Cellars Alec's Blend Red 2002   \n",
       "1361              Lewis Cellars Cabernet Sauvignon 2002   \n",
       "1362      Lewis Cellars Cuvee L Cabernet Sauvignon 2015   \n",
       "1363      Lewis Cellars Reserve Cabernet Sauvignon 2010   \n",
       "1364  Lewis Cellars Reserve Cabernet Sauvignon (scuf...   \n",
       "\n",
       "                                                 region   variety  rating  \\\n",
       "0     Barossa Valley, Barossa, South Australia, Aust...  Red Wine    96.0   \n",
       "1                               Napa Valley, California  Red Wine    96.0   \n",
       "2                               Napa Valley, California  Red Wine    98.0   \n",
       "3              Howell Mountain, Napa Valley, California  Red Wine    96.0   \n",
       "4              Howell Mountain, Napa Valley, California  Red Wine    98.0   \n",
       "...                                                 ...       ...     ...   \n",
       "1360                            Napa Valley, California  Red Wine    96.0   \n",
       "1361                            Napa Valley, California  Red Wine    96.0   \n",
       "1362                            Napa Valley, California  Red Wine    96.0   \n",
       "1363                            Napa Valley, California  Red Wine    96.0   \n",
       "1364                            Napa Valley, California  Red Wine    96.0   \n",
       "\n",
       "                                                  notes  \n",
       "0     Vintage Comments : Classic Barossa vintage con...  \n",
       "1     Cappella is a proprietary blend of two clones ...  \n",
       "2     Cappella is one of the oldest vineyard sites i...  \n",
       "3     When David purchased this Howell Mountain prop...  \n",
       "4     As a set of wines, it is hard to surpass the f...  \n",
       "...                                                 ...  \n",
       "1360                                      Number 12 on   \n",
       "1361  Showcasing the unique personalities of small h...  \n",
       "1362  Straight from James Fenimore Cooper’s novel, L...  \n",
       "1363                                                     \n",
       "1364  The headline reads: \"2012 Reserve Cabernet - R...  \n",
       "\n",
       "[1347 rows x 5 columns]"
      ]
     },
     "execution_count": 1,
     "metadata": {},
     "output_type": "execute_result"
    }
   ],
   "source": [
    "import pandas as pd\n",
    "df = pd.read_csv('../../top_rated_wines.csv')\n",
    "df = df[df['variety'].notna()] # remove any NaN values as it blows up serialization\n",
    "data = df.to_dict('records')\n",
    "df"
   ]
  },
  {
   "cell_type": "code",
   "execution_count": 3,
   "id": "af8bce2c-e123-498a-a5f2-cefffd17fc74",
   "metadata": {},
   "outputs": [],
   "source": [
    "from qdrant_client import models, QdrantClient\n",
    "from sentence_transformers import SentenceTransformer"
   ]
  },
  {
   "cell_type": "code",
   "execution_count": 4,
   "id": "2b0e4be5-7518-4458-bf47-6913ef9a72a9",
   "metadata": {},
   "outputs": [
    {
     "data": {
      "application/vnd.jupyter.widget-view+json": {
       "model_id": "b5fac443a3b04e92b205357c76162583",
       "version_major": 2,
       "version_minor": 0
      },
      "text/plain": [
       "modules.json:   0%|          | 0.00/349 [00:00<?, ?B/s]"
      ]
     },
     "metadata": {},
     "output_type": "display_data"
    },
    {
     "name": "stderr",
     "output_type": "stream",
     "text": [
      "c:\\Users\\z003czhc\\OneDrive - Siemens AG\\dev\\playground\\learn-retrieval-augmented-generation\\.venv\\Lib\\site-packages\\huggingface_hub\\file_download.py:140: UserWarning: `huggingface_hub` cache-system uses symlinks by default to efficiently store duplicated files but your machine does not support them in C:\\Users\\z003czhc\\.cache\\huggingface\\hub\\models--sentence-transformers--all-MiniLM-L6-v2. Caching files will still work but in a degraded version that might require more space on your disk. This warning can be disabled by setting the `HF_HUB_DISABLE_SYMLINKS_WARNING` environment variable. For more details, see https://huggingface.co/docs/huggingface_hub/how-to-cache#limitations.\n",
      "To support symlinks on Windows, you either need to activate Developer Mode or to run Python as an administrator. In order to activate developer mode, see this article: https://docs.microsoft.com/en-us/windows/apps/get-started/enable-your-device-for-development\n",
      "  warnings.warn(message)\n"
     ]
    },
    {
     "data": {
      "application/vnd.jupyter.widget-view+json": {
       "model_id": "10a65886e7114aa5841762b37c130bb9",
       "version_major": 2,
       "version_minor": 0
      },
      "text/plain": [
       "config_sentence_transformers.json:   0%|          | 0.00/116 [00:00<?, ?B/s]"
      ]
     },
     "metadata": {},
     "output_type": "display_data"
    },
    {
     "data": {
      "application/vnd.jupyter.widget-view+json": {
       "model_id": "3b48fac19d374cf393350d34ef012a97",
       "version_major": 2,
       "version_minor": 0
      },
      "text/plain": [
       "README.md:   0%|          | 0.00/10.7k [00:00<?, ?B/s]"
      ]
     },
     "metadata": {},
     "output_type": "display_data"
    },
    {
     "data": {
      "application/vnd.jupyter.widget-view+json": {
       "model_id": "28670e8bd97f44aeab50841673897e45",
       "version_major": 2,
       "version_minor": 0
      },
      "text/plain": [
       "sentence_bert_config.json:   0%|          | 0.00/53.0 [00:00<?, ?B/s]"
      ]
     },
     "metadata": {},
     "output_type": "display_data"
    },
    {
     "data": {
      "application/vnd.jupyter.widget-view+json": {
       "model_id": "380b3a517ed84148966d181bec133f8c",
       "version_major": 2,
       "version_minor": 0
      },
      "text/plain": [
       "config.json:   0%|          | 0.00/612 [00:00<?, ?B/s]"
      ]
     },
     "metadata": {},
     "output_type": "display_data"
    },
    {
     "data": {
      "application/vnd.jupyter.widget-view+json": {
       "model_id": "2ecbe42e7e6640c480d2dce3121a3d89",
       "version_major": 2,
       "version_minor": 0
      },
      "text/plain": [
       "model.safetensors:   0%|          | 0.00/90.9M [00:00<?, ?B/s]"
      ]
     },
     "metadata": {},
     "output_type": "display_data"
    },
    {
     "data": {
      "application/vnd.jupyter.widget-view+json": {
       "model_id": "b12c42d588114e108e6505e1b48f991f",
       "version_major": 2,
       "version_minor": 0
      },
      "text/plain": [
       "tokenizer_config.json:   0%|          | 0.00/350 [00:00<?, ?B/s]"
      ]
     },
     "metadata": {},
     "output_type": "display_data"
    },
    {
     "data": {
      "application/vnd.jupyter.widget-view+json": {
       "model_id": "5e922e979a9c44eeb0b4f922372a6392",
       "version_major": 2,
       "version_minor": 0
      },
      "text/plain": [
       "vocab.txt:   0%|          | 0.00/232k [00:00<?, ?B/s]"
      ]
     },
     "metadata": {},
     "output_type": "display_data"
    },
    {
     "data": {
      "application/vnd.jupyter.widget-view+json": {
       "model_id": "0296815c6f8d435dbb22a4a9ec45d71e",
       "version_major": 2,
       "version_minor": 0
      },
      "text/plain": [
       "tokenizer.json:   0%|          | 0.00/466k [00:00<?, ?B/s]"
      ]
     },
     "metadata": {},
     "output_type": "display_data"
    },
    {
     "data": {
      "application/vnd.jupyter.widget-view+json": {
       "model_id": "d4e421f650f542f6ba1f050293477953",
       "version_major": 2,
       "version_minor": 0
      },
      "text/plain": [
       "special_tokens_map.json:   0%|          | 0.00/112 [00:00<?, ?B/s]"
      ]
     },
     "metadata": {},
     "output_type": "display_data"
    },
    {
     "data": {
      "application/vnd.jupyter.widget-view+json": {
       "model_id": "9a16757f3c0b4d0d9a893481427082d0",
       "version_major": 2,
       "version_minor": 0
      },
      "text/plain": [
       "1_Pooling%2Fconfig.json:   0%|          | 0.00/190 [00:00<?, ?B/s]"
      ]
     },
     "metadata": {},
     "output_type": "display_data"
    }
   ],
   "source": [
    "encoder = SentenceTransformer('all-MiniLM-L6-v2') # Model to create embeddings"
   ]
  },
  {
   "cell_type": "code",
   "execution_count": 5,
   "id": "5efa031d-b18a-4db1-9c34-9989a15c822b",
   "metadata": {},
   "outputs": [],
   "source": [
    "# create the vector database client\n",
    "qdrant = QdrantClient(\":memory:\") # Create in-memory Qdrant instance"
   ]
  },
  {
   "cell_type": "code",
   "execution_count": 6,
   "id": "6c03be93-a076-425e-8df1-5a8b6367e558",
   "metadata": {},
   "outputs": [
    {
     "name": "stderr",
     "output_type": "stream",
     "text": [
      "C:\\Users\\z003czhc\\AppData\\Local\\Temp\\ipykernel_47256\\1729252471.py:2: DeprecationWarning: `recreate_collection` method is deprecated and will be removed in the future. Use `collection_exists` to check collection existence and `create_collection` instead.\n",
      "  qdrant.recreate_collection(\n"
     ]
    },
    {
     "data": {
      "text/plain": [
       "True"
      ]
     },
     "execution_count": 6,
     "metadata": {},
     "output_type": "execute_result"
    }
   ],
   "source": [
    "# Create collection to store books\n",
    "qdrant.recreate_collection(\n",
    "    collection_name=\"top_wines\",\n",
    "    vectors_config=models.VectorParams(\n",
    "        size=encoder.get_sentence_embedding_dimension(), # Vector size is defined by used model\n",
    "        distance=models.Distance.COSINE\n",
    "    )\n",
    ")"
   ]
  },
  {
   "cell_type": "code",
   "execution_count": 7,
   "id": "655d08af-758f-4338-b112-cf94045c7b0d",
   "metadata": {},
   "outputs": [],
   "source": [
    "# vectorize!\n",
    "qdrant.upload_points(\n",
    "    collection_name=\"top_wines\",\n",
    "    points=[\n",
    "        models.PointStruct(\n",
    "            id=idx,\n",
    "            vector=encoder.encode(doc[\"notes\"]).tolist(),\n",
    "            payload=doc\n",
    "        ) for idx, doc in enumerate(data) # data is the variable holding all the wines\n",
    "    ]\n",
    ")"
   ]
  },
  {
   "cell_type": "code",
   "execution_count": 14,
   "id": "68c9bff5-db38-4a98-b542-cd173af11b53",
   "metadata": {},
   "outputs": [
    {
     "name": "stdout",
     "output_type": "stream",
     "text": [
      "{'name': 'Clos du Mont Olivet Chateauneuf-du-Pape Cuvee Papet 2007', 'region': 'Chateauneuf-du-Pape, Rhone, France', 'variety': 'Red Wine', 'rating': 96.0, 'notes': 'Here\\'s an incredibly rare cuvee from Clos du Mont Olivet, one of Chateauneuf-du-Pape\\'s finest traditional producers.  The blend is dominated by very old-vine (80+ year) Grenache from the original \"Clos\" for which the domaine is named.  Only 50 cases were imported to the western US.'} score: 0.25717672976556694\n",
      "{'name': \"Dow's Vintage Port (375ML half-bottle) 2017\", 'region': 'Portugal', 'variety': 'Collectible', 'rating': 96.0, 'notes': 'The 2017 was a very different year to 2016 in terms of the viticultural conditions and it was interesting to watch the progression of the wine and scrutinize its quality as it developed over its first two winters. Whereas 2016 had a very mild winter and exceptionally hot summer, this was compensated by abundant winter and spring rainfall. Conversely, 2017 was warm and dry throughout, although summer temperatures were closer to average, which proved to be a very significant factor allowing for complete, balanced ripening.'} score: 0.25204465409547677\n",
      "{'name': 'Bouchard Pere & Fils Montrachet Grand Cru 2006', 'region': 'Burgundy, France', 'variety': 'White Wine', 'rating': 96.0, 'notes': '97 '} score: 0.2460193614708092\n",
      "{'name': 'Charles Smith Wines Royal City Syrah 2012', 'region': 'Columbia Valley, Washington', 'variety': 'Red Wine', 'rating': 99.0, 'notes': 'Only one is Royal City! Not just in a name, but in everything it is. Green and black olive, dry meat, roasted meat, camphor, warm earth, crushed rock. So elegant. Complex. Concentrated with finesse forever. '} score: 0.19044312081321024\n",
      "{'name': 'Auguste Clape Cornas 2015', 'region': 'Cornas, Rhone, France', 'variety': 'Red Wine', 'rating': 97.0, 'notes': '#77 '} score: 0.17765285835946099\n",
      "{'name': \"Guigal Chateau D'Ampuis Cote Rotie 2010\", 'region': 'Cote Rotie, Rhone, France', 'variety': 'Red Wine', 'rating': 97.0, 'notes': '#77 '} score: 0.17765285835946099\n",
      "{'name': 'Andremily Syrah No. 2 (1.5 Liter Magnum) 2013', 'region': 'Santa Barbara, Central Coast, California', 'variety': 'Red Wine', 'rating': 99.0, 'notes': 'Andremily is excited to share with all of you the 2013 Andremily No.2. The No.2, which similar to the first release, is comprised predominantly of Syrah from the Famed White Hawk Vineyard in Cat Canyon, and Larner Vineyard in Ballard Canyon. The Syrah was 4% co-fermented with Viognier, and includes 35% whole cluster. We included 11% Mourvedre in the final blend, which was bottled after 23 months in French barrique, of which 62% where new.'} score: 0.17329237418182308\n",
      "{'name': 'Andremily Syrah No. 2 2013', 'region': 'Santa Barbara, Central Coast, California', 'variety': 'Red Wine', 'rating': 99.0, 'notes': 'Andremily is excited to share with all of you the 2013 Andremily No.2. The No.2, which similar to the first release, is comprised predominantly of Syrah from the Famed White Hawk Vineyard in Cat Canyon, and Larner Vineyard in Ballard Canyon. The Syrah was 4% co-fermented with Viognier, and includes 35% whole cluster. We included 11% Mourvedre in the final blend, which was bottled after 23 months in French barrique, of which 62% where new.'} score: 0.17329237418182308\n",
      "{'name': 'Champalou Vouvray Les Tries (500ML) 2015', 'region': 'Vouvray, Touraine, Loire, France', 'variety': 'White Wine', 'rating': 96.0, 'notes': 'The fruit is sorted, grape by grape, to find the best and most concentrated grapes. Les Tries is only produced in years in which noble rot fully develops. In the last twenty years, only 5 vintages have been produced: 1996, 1997, 2003, 2009, and 2015.'} score: 0.16635420041357515\n",
      "{'name': 'Krug Clos du Mesnil Blanc de Blancs 1995', 'region': 'Champagne, France', 'variety': 'Sparkling & Champagne', 'rating': 98.0, 'notes': 'One of the rarest and most sought after bottlings of vintage Champagne in the world. The 1995 vintage was just released from the Krug cellars. '} score: 0.16493470069753025\n"
     ]
    },
    {
     "name": "stderr",
     "output_type": "stream",
     "text": [
      "C:\\Users\\z003czhc\\AppData\\Local\\Temp\\ipykernel_47256\\2591219440.py:3: DeprecationWarning: `search` method is deprecated and will be removed in the future. Use `query_points` instead.\n",
      "  hits = qdrant.search(\n"
     ]
    }
   ],
   "source": [
    "# Search time for awesome wines!\n",
    "\n",
    "hits = qdrant.search(\n",
    "    collection_name=\"top_wines\",\n",
    "    query_vector=encoder.encode(\"Find alle with name 2017\").tolist(),\n",
    "    limit=10\n",
    ")\n",
    "for hit in hits:\n",
    "  print(hit.payload, \"score:\", hit.score)"
   ]
  },
  {
   "cell_type": "code",
   "execution_count": null,
   "id": "33243e5d-9e0d-4ec4-98e9-3fc56b8bdb10",
   "metadata": {},
   "outputs": [],
   "source": []
  }
 ],
 "metadata": {
  "kernelspec": {
   "display_name": ".venv",
   "language": "python",
   "name": "python3"
  },
  "language_info": {
   "codemirror_mode": {
    "name": "ipython",
    "version": 3
   },
   "file_extension": ".py",
   "mimetype": "text/x-python",
   "name": "python",
   "nbconvert_exporter": "python",
   "pygments_lexer": "ipython3",
   "version": "3.12.3"
  }
 },
 "nbformat": 4,
 "nbformat_minor": 5
}
